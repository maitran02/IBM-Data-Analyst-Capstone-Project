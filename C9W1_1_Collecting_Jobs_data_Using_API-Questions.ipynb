{
 "cells": [
  {
   "attachments": {},
   "cell_type": "markdown",
   "metadata": {},
   "source": [
    "# Collecting Data using Job API \n",
    "\n",
    "### Objective: Determine the number of jobs currently open for various technologies  and for various locations\n",
    "\n",
    "* Collect job data from Jobs API\n",
    "* Store the collected data into an excel spreadsheet\n",
    "\n",
    "Collect the number of job postings for the following locations using the API:\n",
    "* Los Angeles\n",
    "* New York\n",
    "* San Francisco\n",
    "* Washington DC\n",
    "* Seattle\n",
    "* Austin\n",
    "* Detroit\n"
   ]
  },
  {
   "cell_type": "code",
   "execution_count": 30,
   "metadata": {},
   "outputs": [],
   "source": [
    "import pandas as pd\n",
    "import requests"
   ]
  },
  {
   "attachments": {},
   "cell_type": "markdown",
   "metadata": {},
   "source": [
    "#### Preparation - Flask"
   ]
  },
  {
   "cell_type": "code",
   "execution_count": 31,
   "metadata": {},
   "outputs": [],
   "source": [
    "# import requests\n",
    "\n",
    "# url = 'https://cf-courses-data.s3.us.cloud-object-storage.appdomain.cloud/IBM-DA0321EN-SkillsNetwork/labs/module%201/Accessing%20Data%20Using%20APIs/jobs.json'\n",
    "# filename = 'jobs.json'\n",
    "\n",
    "# response = requests.get(url)\n",
    "\n",
    "# with open(filename, 'wb') as f:\n",
    "#     f.write(response.content)"
   ]
  },
  {
   "cell_type": "code",
   "execution_count": 32,
   "metadata": {},
   "outputs": [],
   "source": [
    "# # Flask \n",
    "# import flask\n",
    "# from flask import request, jsonify\n",
    "# import requests\n",
    "# import re\n",
    "\n",
    "# def get_data(key,value,current):\n",
    "#     results = list()\n",
    "#     pattern_dict = {\n",
    "#         'C'      : '(C)',\n",
    "#         'C++'    : '(C\\+\\+)',\n",
    "#         'Java'   :'(Java)',\n",
    "#         'C#'     : '(C\\#)',\n",
    "#         'Python' :'(Python)',\n",
    "#         'Scala' : '(Scala)',\n",
    "#         'Oracle' : '(Oracle)',\n",
    "#         'SQL Server': '(SQL Server)',\n",
    "#         'MySQL Server' :'(MySQL Server)',\n",
    "#         'PostgreSQL':'(PostgreSQL)',\n",
    "#         'MongoDB'    : '(MongoDB)',\n",
    "#         'JavaScript'    : '(JavaScript)',\n",
    "#         'Los Angeles' :'(Los Angeles)',\n",
    "#         'New York':'(New York)',\n",
    "#         'San Francisco':'(San Francisco)',\n",
    "#         'Washington DC':'(Washington DC)',\n",
    "#         'Seattle':'(Seattle)',\n",
    "#         'Austin':'(Austin)',\n",
    "#         'Detroit':'(Detroit)',\n",
    "        \n",
    "        \n",
    "        \n",
    "        \n",
    "        \n",
    "#     }\n",
    "#     for rec in current:\n",
    "#         print(rec[key])\n",
    "#         print(type(rec[key]))\n",
    "#         print(rec[key].find(value))\n",
    "#         #if rec[key].find(value) != -1:\n",
    "#         import re\n",
    "#         #reex_str = \"\"\"(C)|(C\\+\\+)|(JavaScript)|(Java)|(C\\#)|(Python)|(Scala)|(Oracle)|(SQL Server)|(MySQL Server)|(PostgreSQL)|(MongoDB)\"\"\"\n",
    "#         if re.search(pattern_dict[value],rec[key]) != None:\n",
    "#             results.append(rec)\n",
    "#     return results\n",
    "\n",
    "# app = flask.Flask(__name__)\n",
    "\n",
    "# import json\n",
    "# data = None\n",
    "# with open('jobs.json',encoding='utf-8') as f:\n",
    "#     # returns JSON object as\n",
    "#     # a dictionary\n",
    "#     data = json.load(f)\n",
    "    \n",
    "    \n",
    "\n",
    "# @app.route('/', methods=['GET'])\n",
    "# def home():\n",
    "    \n",
    "#     return '''<h1>Welcome to flask JOB search API</p>'''\n",
    "\n",
    "\n",
    "# @app.route('/data/all', methods=['GET'])\n",
    "# def api_all():\n",
    "#     return jsonify(data)\n",
    "\n",
    "\n",
    "# @app.route('/data', methods=['GET'])\n",
    "# def api_id():\n",
    "#     # Check if keys such as Job Title,KeySkills, Role Category and others  are provided as part of the URL.\n",
    "#     #  Assign the keys to the corresponding variables..\n",
    "#     # If no key is provided, display an error in the browser.\n",
    "#     res = None\n",
    "#     for req in request.args:\n",
    "        \n",
    "#         if req == 'Job Title':\n",
    "#             key = 'Job Title'\n",
    "#         elif req == 'Job Experience Required' :\n",
    "#             key='Job Experience Required'\n",
    "#         elif req == 'Key Skills' :\n",
    "#             key='Key Skills'\n",
    "            \n",
    "#         elif req == 'Role Category' :\n",
    "#             key='Role Category'\n",
    "#         elif req == 'Location' :\n",
    "#             key='Location'\n",
    "        \n",
    "#         elif req == 'Functional Area' :\n",
    "#             key='Functional Area'\n",
    "        \n",
    "#         elif req == 'Industry' :\n",
    "#             key='Industry'\n",
    "#         elif req == 'Role' :\n",
    "#             key='Role'\n",
    "#         elif req==\"id\":\n",
    "#              key=\"id\"\n",
    "#         else:\n",
    "#             pass\n",
    "    \n",
    "#         value = request.args[key]\n",
    "#         if (res==None):\n",
    "#             res = get_data(key,value,data)\n",
    "#         else:\n",
    "#             res = get_data(key,value,res)\n",
    "\n",
    "#     # Use the jsonify function from Flask to convert our list of\n",
    "#     # Python dictionaries to the JSON format.\n",
    "#     return jsonify(res)\n",
    "\n",
    "# app.run()"
   ]
  },
  {
   "attachments": {},
   "cell_type": "markdown",
   "metadata": {},
   "source": [
    "#### Write a function to get the number of jobs for the Python technology.<br>"
   ]
  },
  {
   "attachments": {},
   "cell_type": "markdown",
   "metadata": {},
   "source": [
    "> Note: While using the lab you need to pass the **payload** information for the **params** attribute in the form of **key** **value** pairs.\n",
    "  Refer the ungraded **rest api lab** in the course **Python for Data Science, AI & Development**  <a href=\"https://www.coursera.org/learn/python-for-applied-data-science-ai/ungradedLti/P6sW8/hands-on-lab-access-rest-apis-request-http?utm_medium=Exinfluencer&utm_source=Exinfluencer&utm_content=000026UJ&utm_term=10006555&utm_id=NA-SkillsNetwork-Channel-SkillsNetworkCoursesIBMDA0321ENSkillsNetwork928-2022-01-01\">link</a>\n",
    "  \n",
    " ##### The keys in the json are \n",
    " * Job Title \n",
    " * Job Experience Required\n",
    " * Key Skills\n",
    " * Role Category\n",
    " * Location\n",
    " * Functional Area\n",
    " * Industry \n",
    " * Role \n",
    " \n",
    "You can also view  the json file contents  from the following <a href = \"https://cf-courses-data.s3.us.cloud-object-storage.appdomain.cloud/IBM-DA0321EN-SkillsNetwork/labs/module%201/Accessing%20Data%20Using%20APIs/jobs.json\">json</a> URL.\n"
   ]
  },
  {
   "cell_type": "code",
   "execution_count": 33,
   "metadata": {},
   "outputs": [
    {
     "name": "stdout",
     "output_type": "stream",
     "text": [
      "200\n"
     ]
    }
   ],
   "source": [
    "api_url=\"http://127.0.0.1:5000/data\"\n",
    "r=requests.get(api_url)\n",
    "print(r.status_code)"
   ]
  },
  {
   "cell_type": "code",
   "execution_count": 34,
   "metadata": {},
   "outputs": [
    {
     "name": "stdout",
     "output_type": "stream",
     "text": [
      "{'User-Agent': 'python-requests/2.28.0', 'Accept-Encoding': 'gzip, deflate', 'Accept': '*/*', 'Connection': 'keep-alive'}\n"
     ]
    }
   ],
   "source": [
    "print(r.request.headers)"
   ]
  },
  {
   "cell_type": "code",
   "execution_count": 35,
   "metadata": {},
   "outputs": [
    {
     "name": "stdout",
     "output_type": "stream",
     "text": [
      "request body: None\n"
     ]
    }
   ],
   "source": [
    "print(\"request body:\", r.request.body)"
   ]
  },
  {
   "cell_type": "code",
   "execution_count": 36,
   "metadata": {},
   "outputs": [
    {
     "data": {
      "text/plain": [
       "'Sat, 06 May 2023 21:00:25 GMT'"
      ]
     },
     "execution_count": 36,
     "metadata": {},
     "output_type": "execute_result"
    }
   ],
   "source": [
    "r.headers['date']"
   ]
  },
  {
   "cell_type": "code",
   "execution_count": 37,
   "metadata": {},
   "outputs": [
    {
     "data": {
      "text/plain": [
       "'utf-8'"
      ]
     },
     "execution_count": 37,
     "metadata": {},
     "output_type": "execute_result"
    }
   ],
   "source": [
    "r.headers['Content-Type'] # type of data\n",
    "r.encoding"
   ]
  },
  {
   "cell_type": "code",
   "execution_count": 38,
   "metadata": {},
   "outputs": [
    {
     "data": {
      "text/plain": [
       "'null\\n'"
      ]
     },
     "execution_count": 38,
     "metadata": {},
     "output_type": "execute_result"
    }
   ],
   "source": [
    "r.text"
   ]
  },
  {
   "cell_type": "code",
   "execution_count": 39,
   "metadata": {},
   "outputs": [
    {
     "data": {
      "text/plain": [
       "('Python', 1173)"
      ]
     },
     "execution_count": 39,
     "metadata": {},
     "output_type": "execute_result"
    }
   ],
   "source": [
    "def get_number_of_jobs_T(technology):\n",
    "\n",
    "    number_of_jobs = 0\n",
    "\n",
    "    payload={\"Key Skills\":technology}\n",
    "\n",
    "    r=requests.get(api_url,params=payload)\n",
    "\n",
    "    if r.ok: # if all is well() no errors, no network timeouts)\n",
    "\n",
    "        data = r.json() \n",
    "\n",
    "        number_of_jobs += len(data)\n",
    "\n",
    "    return technology,number_of_jobs\n",
    "\n",
    "get_number_of_jobs_T(\"Python\")"
   ]
  },
  {
   "attachments": {},
   "cell_type": "markdown",
   "metadata": {},
   "source": [
    "#### Write a function to find number of jobs in US for a location of your choice\n"
   ]
  },
  {
   "cell_type": "code",
   "execution_count": 40,
   "metadata": {},
   "outputs": [
    {
     "data": {
      "text/plain": [
       "('Los Angeles', 640)"
      ]
     },
     "execution_count": 40,
     "metadata": {},
     "output_type": "execute_result"
    }
   ],
   "source": [
    "def get_number_of_jobs_L(location):\n",
    "    number_of_jobs_L = 0 \n",
    "    payload = {\"Location\" : location}\n",
    "    r=requests.get(api_url, params=payload)\n",
    "    \n",
    "    if r.ok:\n",
    "        data = r.json()\n",
    "        number_of_jobs_L += len(data)\n",
    "    return location, number_of_jobs_L\n",
    "\n",
    "get_number_of_jobs_L(\"Los Angeles\") # call the function for Los Angeles to check whether it works"
   ]
  },
  {
   "attachments": {},
   "cell_type": "markdown",
   "metadata": {},
   "source": [
    "### Store the results in an excel file"
   ]
  },
  {
   "cell_type": "code",
   "execution_count": 41,
   "metadata": {},
   "outputs": [
    {
     "data": {
      "text/plain": [
       "'\\n# another way:\\nLocations=[\"Los Angeles\", \"New York\", \"San Francisco\", \"Washington DC\", \"Seattle\", \"Austin\", \"Detroit\"]\\nfor i, location in enumerate(Locations):\\n    num_jobs = get_number_of_jobs_L(location)[1]\\n    ws.cell(row=i+1, column=1, value=location)\\n    ws.cell(row=i+1, column=2, value=num_jobs)\\n'"
      ]
     },
     "execution_count": 41,
     "metadata": {},
     "output_type": "execute_result"
    }
   ],
   "source": [
    "# Create a python list of all locations for which you need to find the number of jobs postings.\n",
    "locations = [\"Los Angeles\", \"New York\", \"San Francisco\", \"Washington DC\", \"Seattle\", \"Austin\", \"Detroit\"]\n",
    "\n",
    "from openpyxl import Workbook      \n",
    "\n",
    "# Create a workbook and select the active worksheet\n",
    "wb=Workbook()\n",
    "ws=wb.active\n",
    "\n",
    "ws.append(['Location', 'Number of Jobs Postings'])\n",
    "for location in locations:\n",
    "    ws.append(get_number_of_jobs_L(location))\n",
    "\n",
    "wb.save(\"datasets/job-postings.xlsx\")\n",
    "\n",
    "\"\"\"\n",
    "# another way:\n",
    "Locations=[\"Los Angeles\", \"New York\", \"San Francisco\", \"Washington DC\", \"Seattle\", \"Austin\", \"Detroit\"]\n",
    "for i, location in enumerate(Locations):\n",
    "    num_jobs = get_number_of_jobs_L(location)[1]\n",
    "    ws.cell(row=i+1, column=1, value=location)\n",
    "    ws.cell(row=i+1, column=2, value=num_jobs)\n",
    "\"\"\"\n",
    "\n"
   ]
  },
  {
   "attachments": {},
   "cell_type": "markdown",
   "metadata": {},
   "source": [
    "#### In the similar way, you can try for below given technologies and results  can be stored in an excel sheet.\n"
   ]
  },
  {
   "attachments": {},
   "cell_type": "markdown",
   "metadata": {},
   "source": [
    "Collect the number of job postings for the following languages using the API:\n",
    "\n",
    "*   C\n",
    "*   C#\n",
    "*   C++\n",
    "*   Java\n",
    "*   JavaScript\n",
    "*   Python\n",
    "*   Scala\n",
    "*   Oracle\n",
    "*   SQL Server\n",
    "*   MySQL Server\n",
    "*   PostgreSQL\n",
    "*   MongoDB\n"
   ]
  },
  {
   "cell_type": "code",
   "execution_count": 42,
   "metadata": {},
   "outputs": [],
   "source": [
    "technologies = [\"C\", \"C#\", \"C++\", \"Java\", \"JavaScript\", \"Python\", \"Scala\", \"Oracle\", \"SQL Server\", \"MySQL Server\", \"PostgreSQL\", \"MongoDB\"]\n",
    "\n",
    "wb=Workbook()\n",
    "ws=wb.active\n",
    "ws.append([\"Language\", \"Number of Jobs Postings\"])\n",
    "for technology in technologies:\n",
    "    ws.append(get_number_of_jobs_T(technology))\n",
    "wb.save(\"datasets/job-postings-languages.xlsx\")"
   ]
  },
  {
   "cell_type": "code",
   "execution_count": 43,
   "metadata": {},
   "outputs": [],
   "source": [
    "import seaborn as sns\n",
    "import matplotlib.pyplot as plt"
   ]
  },
  {
   "cell_type": "code",
   "execution_count": 44,
   "metadata": {},
   "outputs": [
    {
     "data": {
      "image/png": "[encoded data removed]",
      "text/plain": [
       "<Figure size 432x288 with 1 Axes>"
      ]
     },
     "metadata": {
      "needs_background": "light"
     },
     "output_type": "display_data"
    }
   ],
   "source": [
    "df_locations = pd.read_excel(\"job-postings.xlsx\")\n",
    "df_locations.sort_values(\"Number of Jobs Postings\", ascending=False, inplace=True)\n",
    "\n",
    "ax = sns.barplot(data=df_locations, x='Location', y='Number of Jobs Postings')\n",
    "ax.set_xticklabels(ax.get_xticklabels(), rotation=45, ha=\"right\")\n",
    "df_locations\n",
    "\n",
    "plt.savefig('locations.png')"
   ]
  },
  {
   "cell_type": "code",
   "execution_count": 45,
   "metadata": {},
   "outputs": [
    {
     "data": {
      "image/png": "[encoded data removed]",
      "text/plain": [
       "<Figure size 432x288 with 1 Axes>"
      ]
     },
     "metadata": {
      "needs_background": "light"
     },
     "output_type": "display_data"
    }
   ],
   "source": [
    "df_languages = pd.read_excel(\"job-postings-languages.xlsx\")\n",
    "df_languages.sort_values('Number of Jobs Postings', ascending=False, inplace=True)\n",
    "\n",
    "ax = sns.barplot(data=df_languages, x='Language', y='Number of Jobs Postings')\n",
    "ax.set_xticklabels(ax.get_xticklabels(), rotation=45, ha=\"right\")\n",
    "\n",
    "plt.savefig('languages.png')"
   ]
  },
  {
   "cell_type": "code",
   "execution_count": 46,
   "metadata": {},
   "outputs": [
    {
     "data": {
      "text/html": [
       "<div>\n",
       "<style scoped>\n",
       "    .dataframe tbody tr th:only-of-type {\n",
       "        vertical-align: middle;\n",
       "    }\n",
       "\n",
       "    .dataframe tbody tr th {\n",
       "        vertical-align: top;\n",
       "    }\n",
       "\n",
       "    .dataframe thead th {\n",
       "        text-align: right;\n",
       "    }\n",
       "</style>\n",
       "<table border=\"1\" class=\"dataframe\">\n",
       "  <thead>\n",
       "    <tr style=\"text-align: right;\">\n",
       "      <th></th>\n",
       "      <th>locations</th>\n",
       "      <th>number of job postings</th>\n",
       "    </tr>\n",
       "  </thead>\n",
       "  <tbody>\n",
       "    <tr>\n",
       "      <th>3</th>\n",
       "      <td>Washington DC</td>\n",
       "      <td>5316</td>\n",
       "    </tr>\n",
       "    <tr>\n",
       "      <th>6</th>\n",
       "      <td>Detroit</td>\n",
       "      <td>3945</td>\n",
       "    </tr>\n",
       "    <tr>\n",
       "      <th>4</th>\n",
       "      <td>Seattle</td>\n",
       "      <td>3375</td>\n",
       "    </tr>\n",
       "    <tr>\n",
       "      <th>1</th>\n",
       "      <td>New York</td>\n",
       "      <td>3226</td>\n",
       "    </tr>\n",
       "    <tr>\n",
       "      <th>0</th>\n",
       "      <td>Los Angeles</td>\n",
       "      <td>640</td>\n",
       "    </tr>\n",
       "    <tr>\n",
       "      <th>2</th>\n",
       "      <td>San Francisco</td>\n",
       "      <td>435</td>\n",
       "    </tr>\n",
       "    <tr>\n",
       "      <th>5</th>\n",
       "      <td>Austin</td>\n",
       "      <td>434</td>\n",
       "    </tr>\n",
       "  </tbody>\n",
       "</table>\n",
       "</div>"
      ],
      "text/plain": [
       "       locations  number of job postings\n",
       "3  Washington DC                    5316\n",
       "6        Detroit                    3945\n",
       "4        Seattle                    3375\n",
       "1       New York                    3226\n",
       "0    Los Angeles                     640\n",
       "2  San Francisco                     435\n",
       "5         Austin                     434"
      ]
     },
     "execution_count": 46,
     "metadata": {},
     "output_type": "execute_result"
    }
   ],
   "source": [
    "# Cach 2: save output to excel with pandas \n",
    "locations = [\"Los Angeles\", \"New York\", \"San Francisco\", \"Washington DC\", \"Seattle\", \"Austin\", \"Detroit\"]\n",
    "\n",
    "df_locations = pd.DataFrame([])\n",
    "number_of_jobs_L = []\n",
    "\n",
    "for location in locations:\n",
    "    number_of_jobs_L.append(get_number_of_jobs_L(location)[1])\n",
    "\n",
    "df_locations = pd.DataFrame({'locations':locations, \"number of job postings\":number_of_jobs_L})\n",
    "df_locations.sort_values(\"number of job postings\",ascending=False, inplace=True)\n",
    "\n",
    "df_locations"
   ]
  },
  {
   "cell_type": "code",
   "execution_count": null,
   "metadata": {},
   "outputs": [],
   "source": []
  }
 ],
 "metadata": {
  "kernelspec": {
   "display_name": "Python 3",
   "language": "python",
   "name": "python3"
  },
  "language_info": {
   "codemirror_mode": {
    "name": "ipython",
    "version": 3
   },
   "file_extension": ".py",
   "mimetype": "text/x-python",
   "name": "python",
   "nbconvert_exporter": "python",
   "pygments_lexer": "ipython3",
   "version": "3.9.6"
  },
  "orig_nbformat": 4
 },
 "nbformat": 4,
 "nbformat_minor": 2
}
